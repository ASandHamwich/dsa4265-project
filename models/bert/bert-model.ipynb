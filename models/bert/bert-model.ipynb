{
 "cells": [
  {
   "cell_type": "markdown",
   "id": "ad0b92aa",
   "metadata": {},
   "source": [
    "# BERT Model"
   ]
  },
  {
   "cell_type": "markdown",
   "id": "45636840",
   "metadata": {},
   "source": [
    "## Imports"
   ]
  },
  {
   "cell_type": "code",
   "execution_count": null,
   "id": "50a161e3",
   "metadata": {},
   "outputs": [
    {
     "name": "stdout",
     "output_type": "stream",
     "text": [
      "Collecting transformers\n",
      "  Downloading transformers-4.51.2-py3-none-any.whl.metadata (38 kB)\n",
      "Collecting datasets\n",
      "  Downloading datasets-3.5.0-py3-none-any.whl.metadata (19 kB)\n",
      "Collecting scikit-learn\n",
      "  Downloading scikit_learn-1.6.1-cp311-cp311-win_amd64.whl.metadata (15 kB)\n",
      "Collecting pandas\n",
      "  Downloading pandas-2.2.3-cp311-cp311-win_amd64.whl.metadata (19 kB)\n",
      "Collecting torch\n",
      "  Downloading torch-2.6.0-cp311-cp311-win_amd64.whl.metadata (28 kB)\n",
      "Collecting matplotlib\n",
      "  Downloading matplotlib-3.10.1-cp311-cp311-win_amd64.whl.metadata (11 kB)\n",
      "Collecting seaborn\n",
      "  Downloading seaborn-0.13.2-py3-none-any.whl.metadata (5.4 kB)\n",
      "Collecting numpy\n",
      "  Using cached numpy-2.2.4-cp311-cp311-win_amd64.whl.metadata (60 kB)\n",
      "Collecting filelock (from transformers)\n",
      "  Downloading filelock-3.18.0-py3-none-any.whl.metadata (2.9 kB)\n",
      "Collecting huggingface-hub<1.0,>=0.30.0 (from transformers)\n",
      "  Downloading huggingface_hub-0.30.2-py3-none-any.whl.metadata (13 kB)\n",
      "Requirement already satisfied: packaging>=20.0 in c:\\users\\arnol\\onedrive\\desktop\\bert\\.venv\\lib\\site-packages (from transformers) (24.2)\n",
      "Collecting pyyaml>=5.1 (from transformers)\n",
      "  Downloading PyYAML-6.0.2-cp311-cp311-win_amd64.whl.metadata (2.1 kB)\n",
      "Collecting regex!=2019.12.17 (from transformers)\n",
      "  Downloading regex-2024.11.6-cp311-cp311-win_amd64.whl.metadata (41 kB)\n",
      "Collecting requests (from transformers)\n",
      "  Downloading requests-2.32.3-py3-none-any.whl.metadata (4.6 kB)\n",
      "Collecting tokenizers<0.22,>=0.21 (from transformers)\n",
      "  Downloading tokenizers-0.21.1-cp39-abi3-win_amd64.whl.metadata (6.9 kB)\n",
      "Collecting safetensors>=0.4.3 (from transformers)\n",
      "  Downloading safetensors-0.5.3-cp38-abi3-win_amd64.whl.metadata (3.9 kB)\n",
      "Collecting tqdm>=4.27 (from transformers)\n",
      "  Downloading tqdm-4.67.1-py3-none-any.whl.metadata (57 kB)\n",
      "Collecting pyarrow>=15.0.0 (from datasets)\n",
      "  Downloading pyarrow-19.0.1-cp311-cp311-win_amd64.whl.metadata (3.4 kB)\n",
      "Collecting dill<0.3.9,>=0.3.0 (from datasets)\n",
      "  Downloading dill-0.3.8-py3-none-any.whl.metadata (10 kB)\n",
      "Collecting xxhash (from datasets)\n",
      "  Downloading xxhash-3.5.0-cp311-cp311-win_amd64.whl.metadata (13 kB)\n",
      "Collecting multiprocess<0.70.17 (from datasets)\n",
      "  Downloading multiprocess-0.70.16-py311-none-any.whl.metadata (7.2 kB)\n",
      "Collecting fsspec<=2024.12.0,>=2023.1.0 (from fsspec[http]<=2024.12.0,>=2023.1.0->datasets)\n",
      "  Downloading fsspec-2024.12.0-py3-none-any.whl.metadata (11 kB)\n",
      "Collecting aiohttp (from datasets)\n",
      "  Downloading aiohttp-3.11.16-cp311-cp311-win_amd64.whl.metadata (8.0 kB)\n",
      "Collecting scipy>=1.6.0 (from scikit-learn)\n",
      "  Downloading scipy-1.15.2-cp311-cp311-win_amd64.whl.metadata (60 kB)\n",
      "Collecting joblib>=1.2.0 (from scikit-learn)\n",
      "  Downloading joblib-1.4.2-py3-none-any.whl.metadata (5.4 kB)\n",
      "Collecting threadpoolctl>=3.1.0 (from scikit-learn)\n",
      "  Downloading threadpoolctl-3.6.0-py3-none-any.whl.metadata (13 kB)\n",
      "Requirement already satisfied: python-dateutil>=2.8.2 in c:\\users\\arnol\\onedrive\\desktop\\bert\\.venv\\lib\\site-packages (from pandas) (2.9.0.post0)\n",
      "Collecting pytz>=2020.1 (from pandas)\n",
      "  Downloading pytz-2025.2-py2.py3-none-any.whl.metadata (22 kB)\n",
      "Collecting tzdata>=2022.7 (from pandas)\n",
      "  Downloading tzdata-2025.2-py2.py3-none-any.whl.metadata (1.4 kB)\n",
      "Requirement already satisfied: typing-extensions>=4.10.0 in c:\\users\\arnol\\onedrive\\desktop\\bert\\.venv\\lib\\site-packages (from torch) (4.13.2)\n",
      "Collecting networkx (from torch)\n",
      "  Downloading networkx-3.4.2-py3-none-any.whl.metadata (6.3 kB)\n",
      "Collecting jinja2 (from torch)\n",
      "  Downloading jinja2-3.1.6-py3-none-any.whl.metadata (2.9 kB)\n",
      "Collecting sympy==1.13.1 (from torch)\n",
      "  Downloading sympy-1.13.1-py3-none-any.whl.metadata (12 kB)\n",
      "Collecting mpmath<1.4,>=1.1.0 (from sympy==1.13.1->torch)\n",
      "  Downloading mpmath-1.3.0-py3-none-any.whl.metadata (8.6 kB)\n",
      "Collecting contourpy>=1.0.1 (from matplotlib)\n",
      "  Downloading contourpy-1.3.1-cp311-cp311-win_amd64.whl.metadata (5.4 kB)\n",
      "Collecting cycler>=0.10 (from matplotlib)\n",
      "  Downloading cycler-0.12.1-py3-none-any.whl.metadata (3.8 kB)\n",
      "Collecting fonttools>=4.22.0 (from matplotlib)\n",
      "  Downloading fonttools-4.57.0-cp311-cp311-win_amd64.whl.metadata (104 kB)\n",
      "Collecting kiwisolver>=1.3.1 (from matplotlib)\n",
      "  Downloading kiwisolver-1.4.8-cp311-cp311-win_amd64.whl.metadata (6.3 kB)\n",
      "Collecting pillow>=8 (from matplotlib)\n",
      "  Downloading pillow-11.1.0-cp311-cp311-win_amd64.whl.metadata (9.3 kB)\n",
      "Collecting pyparsing>=2.3.1 (from matplotlib)\n",
      "  Downloading pyparsing-3.2.3-py3-none-any.whl.metadata (5.0 kB)\n",
      "Collecting aiohappyeyeballs>=2.3.0 (from aiohttp->datasets)\n",
      "  Downloading aiohappyeyeballs-2.6.1-py3-none-any.whl.metadata (5.9 kB)\n",
      "Collecting aiosignal>=1.1.2 (from aiohttp->datasets)\n",
      "  Downloading aiosignal-1.3.2-py2.py3-none-any.whl.metadata (3.8 kB)\n",
      "Collecting attrs>=17.3.0 (from aiohttp->datasets)\n",
      "  Downloading attrs-25.3.0-py3-none-any.whl.metadata (10 kB)\n",
      "Collecting frozenlist>=1.1.1 (from aiohttp->datasets)\n",
      "  Downloading frozenlist-1.5.0-cp311-cp311-win_amd64.whl.metadata (14 kB)\n",
      "Collecting multidict<7.0,>=4.5 (from aiohttp->datasets)\n",
      "  Downloading multidict-6.4.3-cp311-cp311-win_amd64.whl.metadata (5.5 kB)\n",
      "Collecting propcache>=0.2.0 (from aiohttp->datasets)\n",
      "  Downloading propcache-0.3.1-cp311-cp311-win_amd64.whl.metadata (11 kB)\n",
      "Collecting yarl<2.0,>=1.17.0 (from aiohttp->datasets)\n",
      "  Downloading yarl-1.19.0-cp311-cp311-win_amd64.whl.metadata (74 kB)\n",
      "Requirement already satisfied: six>=1.5 in c:\\users\\arnol\\onedrive\\desktop\\bert\\.venv\\lib\\site-packages (from python-dateutil>=2.8.2->pandas) (1.17.0)\n",
      "Collecting charset-normalizer<4,>=2 (from requests->transformers)\n",
      "  Downloading charset_normalizer-3.4.1-cp311-cp311-win_amd64.whl.metadata (36 kB)\n",
      "Collecting idna<4,>=2.5 (from requests->transformers)\n",
      "  Downloading idna-3.10-py3-none-any.whl.metadata (10 kB)\n",
      "Collecting urllib3<3,>=1.21.1 (from requests->transformers)\n",
      "  Downloading urllib3-2.4.0-py3-none-any.whl.metadata (6.5 kB)\n",
      "Collecting certifi>=2017.4.17 (from requests->transformers)\n",
      "  Downloading certifi-2025.1.31-py3-none-any.whl.metadata (2.5 kB)\n",
      "Requirement already satisfied: colorama in c:\\users\\arnol\\onedrive\\desktop\\bert\\.venv\\lib\\site-packages (from tqdm>=4.27->transformers) (0.4.6)\n",
      "Collecting MarkupSafe>=2.0 (from jinja2->torch)\n",
      "  Downloading MarkupSafe-3.0.2-cp311-cp311-win_amd64.whl.metadata (4.1 kB)\n",
      "Downloading transformers-4.51.2-py3-none-any.whl (10.4 MB)\n",
      "   ---------------------------------------- 0.0/10.4 MB ? eta -:--:--\n",
      "   --------- ------------------------------ 2.4/10.4 MB 12.2 MB/s eta 0:00:01\n",
      "   ------------------ --------------------- 4.7/10.4 MB 11.4 MB/s eta 0:00:01\n",
      "   --------------------------- ------------ 7.1/10.4 MB 11.8 MB/s eta 0:00:01\n",
      "   ----------------------------------- ---- 9.2/10.4 MB 11.6 MB/s eta 0:00:01\n",
      "   ---------------------------------------- 10.4/10.4 MB 11.1 MB/s eta 0:00:00\n",
      "Downloading datasets-3.5.0-py3-none-any.whl (491 kB)\n",
      "Downloading scikit_learn-1.6.1-cp311-cp311-win_amd64.whl (11.1 MB)\n",
      "   ---------------------------------------- 0.0/11.1 MB ? eta -:--:--\n",
      "   -------- ------------------------------- 2.4/11.1 MB 12.2 MB/s eta 0:00:01\n",
      "   ---------------- ----------------------- 4.7/11.1 MB 12.4 MB/s eta 0:00:01\n",
      "   ------------------------- -------------- 7.1/11.1 MB 12.1 MB/s eta 0:00:01\n",
      "   ---------------------------------- ----- 9.7/11.1 MB 12.1 MB/s eta 0:00:01\n",
      "   ---------------------------------------- 11.1/11.1 MB 11.8 MB/s eta 0:00:00\n",
      "Downloading pandas-2.2.3-cp311-cp311-win_amd64.whl (11.6 MB)\n",
      "   ---------------------------------------- 0.0/11.6 MB ? eta -:--:--\n",
      "   -------- ------------------------------- 2.4/11.6 MB 11.2 MB/s eta 0:00:01\n",
      "   ---------------- ----------------------- 4.7/11.6 MB 11.4 MB/s eta 0:00:01\n",
      "   ------------------------ --------------- 7.1/11.6 MB 11.8 MB/s eta 0:00:01\n",
      "   -------------------------------- ------- 9.4/11.6 MB 11.7 MB/s eta 0:00:01\n",
      "   ---------------------------------------- 11.6/11.6 MB 11.5 MB/s eta 0:00:00\n",
      "Downloading torch-2.6.0-cp311-cp311-win_amd64.whl (204.2 MB)\n",
      "   ---------------------------------------- 0.0/204.2 MB ? eta -:--:--\n",
      "   ---------------------------------------- 2.4/204.2 MB 12.2 MB/s eta 0:00:17\n",
      "    --------------------------------------- 4.7/204.2 MB 11.9 MB/s eta 0:00:17\n",
      "   - -------------------------------------- 7.3/204.2 MB 11.9 MB/s eta 0:00:17\n",
      "   - -------------------------------------- 9.7/204.2 MB 12.1 MB/s eta 0:00:17\n",
      "   -- ------------------------------------- 12.1/204.2 MB 12.0 MB/s eta 0:00:17\n",
      "   -- ------------------------------------- 14.4/204.2 MB 11.9 MB/s eta 0:00:16\n",
      "   --- ------------------------------------ 16.8/204.2 MB 11.9 MB/s eta 0:00:16\n",
      "   --- ------------------------------------ 19.4/204.2 MB 12.0 MB/s eta 0:00:16\n",
      "   ---- ----------------------------------- 21.8/204.2 MB 12.0 MB/s eta 0:00:16\n",
      "   ---- ----------------------------------- 24.4/204.2 MB 12.0 MB/s eta 0:00:16\n",
      "   ----- ---------------------------------- 26.7/204.2 MB 11.9 MB/s eta 0:00:15\n",
      "   ----- ---------------------------------- 29.1/204.2 MB 12.0 MB/s eta 0:00:15\n",
      "   ------ --------------------------------- 31.7/204.2 MB 12.0 MB/s eta 0:00:15\n",
      "   ------ --------------------------------- 34.1/204.2 MB 12.0 MB/s eta 0:00:15\n",
      "   ------- -------------------------------- 36.4/204.2 MB 12.0 MB/s eta 0:00:14\n",
      "   ------- -------------------------------- 39.1/204.2 MB 12.0 MB/s eta 0:00:14\n",
      "   -------- ------------------------------- 41.4/204.2 MB 12.0 MB/s eta 0:00:14\n",
      "   -------- ------------------------------- 43.8/204.2 MB 12.0 MB/s eta 0:00:14\n",
      "   --------- ------------------------------ 46.4/204.2 MB 12.0 MB/s eta 0:00:14\n",
      "   --------- ------------------------------ 49.0/204.2 MB 12.0 MB/s eta 0:00:13\n",
      "   ---------- ----------------------------- 51.4/204.2 MB 12.0 MB/s eta 0:00:13\n",
      "   ---------- ----------------------------- 53.7/204.2 MB 12.0 MB/s eta 0:00:13\n",
      "   ---------- ----------------------------- 56.1/204.2 MB 12.0 MB/s eta 0:00:13\n",
      "   ----------- ---------------------------- 58.7/204.2 MB 12.0 MB/s eta 0:00:13\n",
      "   ----------- ---------------------------- 61.1/204.2 MB 12.0 MB/s eta 0:00:12\n",
      "   ------------ --------------------------- 63.4/204.2 MB 12.0 MB/s eta 0:00:12\n",
      "   ------------ --------------------------- 66.1/204.2 MB 12.0 MB/s eta 0:00:12\n",
      "   ------------- -------------------------- 68.4/204.2 MB 12.0 MB/s eta 0:00:12\n",
      "   ------------- -------------------------- 71.0/204.2 MB 12.0 MB/s eta 0:00:12\n",
      "   -------------- ------------------------- 73.4/204.2 MB 12.0 MB/s eta 0:00:11\n",
      "   -------------- ------------------------- 75.5/204.2 MB 11.9 MB/s eta 0:00:11\n",
      "   --------------- ------------------------ 78.1/204.2 MB 12.0 MB/s eta 0:00:11\n",
      "   --------------- ------------------------ 80.5/204.2 MB 11.9 MB/s eta 0:00:11\n",
      "   ---------------- ----------------------- 82.8/204.2 MB 11.9 MB/s eta 0:00:11\n",
      "   ---------------- ----------------------- 85.5/204.2 MB 11.9 MB/s eta 0:00:10\n",
      "   ----------------- ---------------------- 87.8/204.2 MB 11.9 MB/s eta 0:00:10\n",
      "   ----------------- ---------------------- 90.2/204.2 MB 11.9 MB/s eta 0:00:10\n",
      "   ------------------ --------------------- 92.8/204.2 MB 11.9 MB/s eta 0:00:10\n",
      "   ------------------ --------------------- 95.2/204.2 MB 12.0 MB/s eta 0:00:10\n",
      "   ------------------- -------------------- 97.8/204.2 MB 12.0 MB/s eta 0:00:09\n",
      "   ------------------- ------------------- 100.1/204.2 MB 11.9 MB/s eta 0:00:09\n",
      "   ------------------- ------------------- 102.5/204.2 MB 12.0 MB/s eta 0:00:09\n",
      "   -------------------- ------------------ 105.1/204.2 MB 12.0 MB/s eta 0:00:09\n",
      "   -------------------- ------------------ 107.7/204.2 MB 12.0 MB/s eta 0:00:09\n",
      "   -------------------- ------------------ 109.8/204.2 MB 11.9 MB/s eta 0:00:08\n",
      "   --------------------- ----------------- 112.5/204.2 MB 11.9 MB/s eta 0:00:08\n",
      "   --------------------- ----------------- 114.8/204.2 MB 12.0 MB/s eta 0:00:08\n",
      "   ---------------------- ---------------- 117.4/204.2 MB 12.0 MB/s eta 0:00:08\n",
      "   ---------------------- ---------------- 120.1/204.2 MB 12.0 MB/s eta 0:00:08\n",
      "   ----------------------- --------------- 122.4/204.2 MB 12.0 MB/s eta 0:00:07\n",
      "   ----------------------- --------------- 125.0/204.2 MB 12.0 MB/s eta 0:00:07\n",
      "   ------------------------ -------------- 127.1/204.2 MB 11.9 MB/s eta 0:00:07\n",
      "   ------------------------ -------------- 129.8/204.2 MB 11.9 MB/s eta 0:00:07\n",
      "   ------------------------- ------------- 132.1/204.2 MB 12.0 MB/s eta 0:00:07\n",
      "   ------------------------- ------------- 134.7/204.2 MB 12.0 MB/s eta 0:00:06\n",
      "   -------------------------- ------------ 137.4/204.2 MB 12.0 MB/s eta 0:00:06\n",
      "   -------------------------- ------------ 139.7/204.2 MB 11.9 MB/s eta 0:00:06\n",
      "   --------------------------- ----------- 142.3/204.2 MB 12.0 MB/s eta 0:00:06\n",
      "   --------------------------- ----------- 144.4/204.2 MB 12.0 MB/s eta 0:00:05\n",
      "   ---------------------------- ---------- 147.1/204.2 MB 11.9 MB/s eta 0:00:05\n",
      "   ---------------------------- ---------- 149.2/204.2 MB 11.9 MB/s eta 0:00:05\n",
      "   ---------------------------- ---------- 151.8/204.2 MB 11.9 MB/s eta 0:00:05\n",
      "   ----------------------------- --------- 154.1/204.2 MB 11.9 MB/s eta 0:00:05\n",
      "   ----------------------------- --------- 156.5/204.2 MB 11.9 MB/s eta 0:00:04\n",
      "   ------------------------------ -------- 159.1/204.2 MB 11.9 MB/s eta 0:00:04\n",
      "   ------------------------------ -------- 161.5/204.2 MB 11.9 MB/s eta 0:00:04\n",
      "   ------------------------------- ------- 164.1/204.2 MB 11.9 MB/s eta 0:00:04\n",
      "   ------------------------------- ------- 166.5/204.2 MB 11.9 MB/s eta 0:00:04\n",
      "   -------------------------------- ------ 168.8/204.2 MB 11.9 MB/s eta 0:00:03\n",
      "   -------------------------------- ------ 171.4/204.2 MB 11.9 MB/s eta 0:00:03\n",
      "   --------------------------------- ----- 173.8/204.2 MB 11.9 MB/s eta 0:00:03\n",
      "   --------------------------------- ----- 176.2/204.2 MB 12.0 MB/s eta 0:00:03\n",
      "   ---------------------------------- ---- 178.8/204.2 MB 12.0 MB/s eta 0:00:03\n",
      "   ---------------------------------- ---- 181.1/204.2 MB 11.9 MB/s eta 0:00:02\n",
      "   ----------------------------------- --- 183.5/204.2 MB 12.0 MB/s eta 0:00:02\n",
      "   ----------------------------------- --- 185.9/204.2 MB 12.0 MB/s eta 0:00:02\n",
      "   ------------------------------------ -- 188.5/204.2 MB 12.0 MB/s eta 0:00:02\n",
      "   ------------------------------------ -- 190.8/204.2 MB 11.9 MB/s eta 0:00:02\n",
      "   ------------------------------------ -- 193.2/204.2 MB 12.0 MB/s eta 0:00:01\n",
      "   ------------------------------------- - 195.8/204.2 MB 12.0 MB/s eta 0:00:01\n",
      "   ------------------------------------- - 198.2/204.2 MB 12.0 MB/s eta 0:00:01\n",
      "   --------------------------------------  200.5/204.2 MB 12.0 MB/s eta 0:00:01\n",
      "   --------------------------------------  202.9/204.2 MB 12.0 MB/s eta 0:00:01\n",
      "   --------------------------------------  203.9/204.2 MB 11.9 MB/s eta 0:00:01\n",
      "   --------------------------------------- 204.2/204.2 MB 11.8 MB/s eta 0:00:00\n",
      "Downloading sympy-1.13.1-py3-none-any.whl (6.2 MB)\n",
      "   ---------------------------------------- 0.0/6.2 MB ? eta -:--:--\n",
      "   --------------- ------------------------ 2.4/6.2 MB 12.2 MB/s eta 0:00:01\n",
      "   ------------------------------ --------- 4.7/6.2 MB 11.4 MB/s eta 0:00:01\n",
      "   ---------------------------------------- 6.2/6.2 MB 11.5 MB/s eta 0:00:00\n",
      "Downloading matplotlib-3.10.1-cp311-cp311-win_amd64.whl (8.1 MB)\n",
      "   ---------------------------------------- 0.0/8.1 MB ? eta -:--:--\n",
      "   ----------- ---------------------------- 2.4/8.1 MB 12.2 MB/s eta 0:00:01\n",
      "   ----------------------- ---------------- 4.7/8.1 MB 11.9 MB/s eta 0:00:01\n",
      "   ------------------------------------ --- 7.3/8.1 MB 11.9 MB/s eta 0:00:01\n",
      "   ---------------------------------------- 8.1/8.1 MB 11.6 MB/s eta 0:00:00\n",
      "Downloading seaborn-0.13.2-py3-none-any.whl (294 kB)\n",
      "Using cached numpy-2.2.4-cp311-cp311-win_amd64.whl (12.9 MB)\n",
      "Downloading contourpy-1.3.1-cp311-cp311-win_amd64.whl (219 kB)\n",
      "Downloading cycler-0.12.1-py3-none-any.whl (8.3 kB)\n",
      "Downloading dill-0.3.8-py3-none-any.whl (116 kB)\n",
      "Downloading fonttools-4.57.0-cp311-cp311-win_amd64.whl (2.2 MB)\n",
      "   ---------------------------------------- 0.0/2.2 MB ? eta -:--:--\n",
      "   ---------------------------------------- 2.2/2.2 MB 11.3 MB/s eta 0:00:00\n",
      "Downloading fsspec-2024.12.0-py3-none-any.whl (183 kB)\n",
      "Downloading aiohttp-3.11.16-cp311-cp311-win_amd64.whl (442 kB)\n",
      "Downloading huggingface_hub-0.30.2-py3-none-any.whl (481 kB)\n",
      "Downloading joblib-1.4.2-py3-none-any.whl (301 kB)\n",
      "Downloading kiwisolver-1.4.8-cp311-cp311-win_amd64.whl (71 kB)\n",
      "Downloading multiprocess-0.70.16-py311-none-any.whl (143 kB)\n",
      "Downloading pillow-11.1.0-cp311-cp311-win_amd64.whl (2.6 MB)\n",
      "   ---------------------------------------- 0.0/2.6 MB ? eta -:--:--\n",
      "   ----------------------------------- ---- 2.4/2.6 MB 12.2 MB/s eta 0:00:01\n",
      "   ---------------------------------------- 2.6/2.6 MB 11.6 MB/s eta 0:00:00\n",
      "Downloading pyarrow-19.0.1-cp311-cp311-win_amd64.whl (25.3 MB)\n",
      "   ---------------------------------------- 0.0/25.3 MB ? eta -:--:--\n",
      "   --- ------------------------------------ 2.4/25.3 MB 12.2 MB/s eta 0:00:02\n",
      "   ------- -------------------------------- 5.0/25.3 MB 11.6 MB/s eta 0:00:02\n",
      "   ------------ --------------------------- 7.6/25.3 MB 12.0 MB/s eta 0:00:02\n",
      "   --------------- ------------------------ 10.0/25.3 MB 11.9 MB/s eta 0:00:02\n",
      "   ------------------- -------------------- 12.6/25.3 MB 12.0 MB/s eta 0:00:02\n",
      "   ------------------------ --------------- 15.2/25.3 MB 12.0 MB/s eta 0:00:01\n",
      "   --------------------------- ------------ 17.6/25.3 MB 12.0 MB/s eta 0:00:01\n",
      "   ------------------------------- -------- 19.9/25.3 MB 12.0 MB/s eta 0:00:01\n",
      "   ----------------------------------- ---- 22.5/25.3 MB 12.0 MB/s eta 0:00:01\n",
      "   ---------------------------------------  24.9/25.3 MB 11.9 MB/s eta 0:00:01\n",
      "   ---------------------------------------- 25.3/25.3 MB 11.8 MB/s eta 0:00:00\n",
      "Downloading pyparsing-3.2.3-py3-none-any.whl (111 kB)\n",
      "Downloading pytz-2025.2-py2.py3-none-any.whl (509 kB)\n",
      "Downloading PyYAML-6.0.2-cp311-cp311-win_amd64.whl (161 kB)\n",
      "Downloading regex-2024.11.6-cp311-cp311-win_amd64.whl (274 kB)\n",
      "Downloading requests-2.32.3-py3-none-any.whl (64 kB)\n",
      "Downloading safetensors-0.5.3-cp38-abi3-win_amd64.whl (308 kB)\n",
      "Downloading scipy-1.15.2-cp311-cp311-win_amd64.whl (41.2 MB)\n",
      "   ---------------------------------------- 0.0/41.2 MB ? eta -:--:--\n",
      "   -- ------------------------------------- 2.4/41.2 MB 12.3 MB/s eta 0:00:04\n",
      "   ---- ----------------------------------- 4.7/41.2 MB 11.9 MB/s eta 0:00:04\n",
      "   ------ --------------------------------- 7.1/41.2 MB 11.8 MB/s eta 0:00:03\n",
      "   --------- ------------------------------ 9.7/41.2 MB 12.1 MB/s eta 0:00:03\n",
      "   ----------- ---------------------------- 12.1/41.2 MB 12.0 MB/s eta 0:00:03\n",
      "   ------------- -------------------------- 14.4/41.2 MB 11.9 MB/s eta 0:00:03\n",
      "   ---------------- ----------------------- 16.8/41.2 MB 12.0 MB/s eta 0:00:03\n",
      "   ------------------ --------------------- 19.4/41.2 MB 12.0 MB/s eta 0:00:02\n",
      "   --------------------- ------------------ 21.8/41.2 MB 12.0 MB/s eta 0:00:02\n",
      "   ----------------------- ---------------- 24.1/41.2 MB 12.0 MB/s eta 0:00:02\n",
      "   ------------------------- -------------- 26.7/41.2 MB 12.0 MB/s eta 0:00:02\n",
      "   ---------------------------- ----------- 29.1/41.2 MB 12.0 MB/s eta 0:00:02\n",
      "   ------------------------------ --------- 31.5/41.2 MB 12.0 MB/s eta 0:00:01\n",
      "   -------------------------------- ------- 33.8/41.2 MB 12.0 MB/s eta 0:00:01\n",
      "   ----------------------------------- ---- 36.4/41.2 MB 12.0 MB/s eta 0:00:01\n",
      "   ------------------------------------- -- 38.8/41.2 MB 12.0 MB/s eta 0:00:01\n",
      "   ---------------------------------------  41.2/41.2 MB 12.0 MB/s eta 0:00:01\n",
      "   ---------------------------------------- 41.2/41.2 MB 11.8 MB/s eta 0:00:00\n",
      "Downloading threadpoolctl-3.6.0-py3-none-any.whl (18 kB)\n",
      "Downloading tokenizers-0.21.1-cp39-abi3-win_amd64.whl (2.4 MB)\n",
      "   ---------------------------------------- 0.0/2.4 MB ? eta -:--:--\n",
      "   -------------------------------------- - 2.4/2.4 MB 12.2 MB/s eta 0:00:01\n",
      "   ---------------------------------------- 2.4/2.4 MB 11.6 MB/s eta 0:00:00\n",
      "Downloading tqdm-4.67.1-py3-none-any.whl (78 kB)\n",
      "Downloading tzdata-2025.2-py2.py3-none-any.whl (347 kB)\n",
      "Downloading filelock-3.18.0-py3-none-any.whl (16 kB)\n",
      "Downloading jinja2-3.1.6-py3-none-any.whl (134 kB)\n",
      "Downloading networkx-3.4.2-py3-none-any.whl (1.7 MB)\n",
      "   ---------------------------------------- 0.0/1.7 MB ? eta -:--:--\n",
      "   ---------------------------------------- 1.7/1.7 MB 11.7 MB/s eta 0:00:00\n",
      "Downloading xxhash-3.5.0-cp311-cp311-win_amd64.whl (30 kB)\n",
      "Downloading aiohappyeyeballs-2.6.1-py3-none-any.whl (15 kB)\n",
      "Downloading aiosignal-1.3.2-py2.py3-none-any.whl (7.6 kB)\n",
      "Downloading attrs-25.3.0-py3-none-any.whl (63 kB)\n",
      "Downloading certifi-2025.1.31-py3-none-any.whl (166 kB)\n",
      "Downloading charset_normalizer-3.4.1-cp311-cp311-win_amd64.whl (102 kB)\n",
      "Downloading frozenlist-1.5.0-cp311-cp311-win_amd64.whl (51 kB)\n",
      "Downloading idna-3.10-py3-none-any.whl (70 kB)\n",
      "Downloading MarkupSafe-3.0.2-cp311-cp311-win_amd64.whl (15 kB)\n",
      "Downloading mpmath-1.3.0-py3-none-any.whl (536 kB)\n",
      "   ---------------------------------------- 0.0/536.2 kB ? eta -:--:--\n",
      "   ---------------------------------------- 536.2/536.2 kB 8.8 MB/s eta 0:00:00\n",
      "Downloading multidict-6.4.3-cp311-cp311-win_amd64.whl (38 kB)\n",
      "Downloading propcache-0.3.1-cp311-cp311-win_amd64.whl (45 kB)\n",
      "Downloading urllib3-2.4.0-py3-none-any.whl (128 kB)\n",
      "Downloading yarl-1.19.0-cp311-cp311-win_amd64.whl (93 kB)\n",
      "Installing collected packages: pytz, mpmath, xxhash, urllib3, tzdata, tqdm, threadpoolctl, sympy, safetensors, regex, pyyaml, pyparsing, pyarrow, propcache, pillow, numpy, networkx, multidict, MarkupSafe, kiwisolver, joblib, idna, fsspec, frozenlist, fonttools, filelock, dill, cycler, charset-normalizer, certifi, attrs, aiohappyeyeballs, yarl, scipy, requests, pandas, multiprocess, jinja2, contourpy, aiosignal, torch, scikit-learn, matplotlib, huggingface-hub, aiohttp, tokenizers, seaborn, transformers, datasets\n",
      "Successfully installed MarkupSafe-3.0.2 aiohappyeyeballs-2.6.1 aiohttp-3.11.16 aiosignal-1.3.2 attrs-25.3.0 certifi-2025.1.31 charset-normalizer-3.4.1 contourpy-1.3.1 cycler-0.12.1 datasets-3.5.0 dill-0.3.8 filelock-3.18.0 fonttools-4.57.0 frozenlist-1.5.0 fsspec-2024.12.0 huggingface-hub-0.30.2 idna-3.10 jinja2-3.1.6 joblib-1.4.2 kiwisolver-1.4.8 matplotlib-3.10.1 mpmath-1.3.0 multidict-6.4.3 multiprocess-0.70.16 networkx-3.4.2 numpy-2.2.4 pandas-2.2.3 pillow-11.1.0 propcache-0.3.1 pyarrow-19.0.1 pyparsing-3.2.3 pytz-2025.2 pyyaml-6.0.2 regex-2024.11.6 requests-2.32.3 safetensors-0.5.3 scikit-learn-1.6.1 scipy-1.15.2 seaborn-0.13.2 sympy-1.13.1 threadpoolctl-3.6.0 tokenizers-0.21.1 torch-2.6.0 tqdm-4.67.1 transformers-4.51.2 tzdata-2025.2 urllib3-2.4.0 xxhash-3.5.0 yarl-1.19.0\n"
     ]
    }
   ],
   "source": [
    "# !pip install transformers datasets scikit-learn pandas torch matplotlib seaborn numpy"
   ]
  },
  {
   "cell_type": "code",
   "execution_count": 35,
   "id": "908cb3fc",
   "metadata": {},
   "outputs": [],
   "source": [
    "import pandas as pd\n",
    "import os\n",
    "import torch\n",
    "import torch.nn as nn\n",
    "from torch.optim import AdamW\n",
    "from torch.utils.data import DataLoader, Dataset\n",
    "from sklearn.model_selection import train_test_split\n",
    "from sklearn.preprocessing import LabelEncoder\n",
    "from sklearn.metrics import accuracy_score, precision_score, recall_score, f1_score, confusion_matrix\n",
    "from torch.utils.data import Dataset, DataLoader\n",
    "from transformers import BertTokenizer, BertForSequenceClassification, BertModel\n",
    "from tqdm import tqdm\n",
    "from matplotlib import pyplot as plt\n",
    "import seaborn\n",
    "import numpy as np\n",
    "from torch.nn.functional import softmax\n"
   ]
  },
  {
   "cell_type": "code",
   "execution_count": 36,
   "id": "b3ffe206",
   "metadata": {},
   "outputs": [
    {
     "name": "stdout",
     "output_type": "stream",
     "text": [
      "Using device: cpu\n"
     ]
    }
   ],
   "source": [
    "torch.manual_seed(21)\n",
    "    \n",
    "# Set device for running model (GPU if available, else CPU)\n",
    "device = (\n",
    "    \"mps\" \n",
    "    if torch.backends.mps.is_available()\n",
    "    else \"cuda\" \n",
    "    if torch.cuda.is_available() \n",
    "    else \"cpu\"\n",
    ")\n",
    "device = torch.device(device)\n",
    "print(f\"Using device: {device}\")"
   ]
  },
  {
   "cell_type": "markdown",
   "id": "8a43cef2",
   "metadata": {},
   "source": [
    "## Data"
   ]
  },
  {
   "cell_type": "code",
   "execution_count": 37,
   "id": "5d48db14",
   "metadata": {},
   "outputs": [],
   "source": [
    "dataset_path = './data/final_dataset_cleaned.csv'"
   ]
  },
  {
   "cell_type": "code",
   "execution_count": 38,
   "id": "02a12125",
   "metadata": {},
   "outputs": [
    {
     "name": "stdout",
     "output_type": "stream",
     "text": [
      "<class 'pandas.core.frame.DataFrame'>\n",
      "RangeIndex: 3993 entries, 0 to 3992\n",
      "Data columns (total 6 columns):\n",
      " #   Column       Non-Null Count  Dtype  \n",
      "---  ------       --------------  -----  \n",
      " 0   date         3993 non-null   object \n",
      " 1   description  3993 non-null   object \n",
      " 2   amount       3993 non-null   float64\n",
      " 3   type         3993 non-null   object \n",
      " 4   category     3993 non-null   object \n",
      " 5   explanation  3993 non-null   object \n",
      "dtypes: float64(1), object(5)\n",
      "memory usage: 187.3+ KB\n"
     ]
    }
   ],
   "source": [
    "data = pd.read_csv(dataset_path)\n",
    "data.info()"
   ]
  },
  {
   "cell_type": "code",
   "execution_count": 39,
   "id": "15559e4c",
   "metadata": {},
   "outputs": [],
   "source": [
    "data = data.dropna()\n",
    "data = data.drop_duplicates()"
   ]
  },
  {
   "cell_type": "code",
   "execution_count": 40,
   "id": "8ab16d1f",
   "metadata": {},
   "outputs": [],
   "source": [
    "labels = data['category'].unique()"
   ]
  },
  {
   "cell_type": "code",
   "execution_count": 41,
   "id": "9165b922",
   "metadata": {},
   "outputs": [
    {
     "data": {
      "image/png": "[encoded data removed]",
      "text/plain": [
       "<Figure size 1000x600 with 1 Axes>"
      ]
     },
     "metadata": {},
     "output_type": "display_data"
    }
   ],
   "source": [
    "import matplotlib.pyplot as plt\n",
    "import seaborn as sns\n",
    "\n",
    "# Count classes\n",
    "class_counts = data['category'].value_counts()\n",
    "\n",
    "# Plot\n",
    "plt.figure(figsize=(10, 6))\n",
    "sns.barplot(x=class_counts.index, y=class_counts.values)\n",
    "\n",
    "# Automatically align tick labels with class names\n",
    "plt.xticks(rotation=45, ha='right')  # Rotates for better visibility\n",
    "plt.ylabel(\"Count\")\n",
    "plt.title(\"Class Distribution\")\n",
    "plt.tight_layout()\n",
    "plt.show()\n"
   ]
  },
  {
   "cell_type": "markdown",
   "id": "ca42afc3",
   "metadata": {},
   "source": [
    "## Model"
   ]
  },
  {
   "cell_type": "code",
   "execution_count": 42,
   "id": "b1df54be",
   "metadata": {},
   "outputs": [],
   "source": [
    "# Encode labels\n",
    "label_encoder = LabelEncoder()\n",
    "data[\"label\"] = label_encoder.fit_transform(data[\"category\"])\n",
    "num_labels = len(label_encoder.classes_)"
   ]
  },
  {
   "cell_type": "code",
   "execution_count": 43,
   "id": "d0b1d55d",
   "metadata": {},
   "outputs": [],
   "source": [
    "# Split into train/test\n",
    "train_texts, val_texts, train_labels, val_labels = train_test_split(\n",
    "    data[\"description\"].tolist(),\n",
    "    data[\"label\"].tolist(),\n",
    "    test_size=0.2,\n",
    "    random_state=42\n",
    ")"
   ]
  },
  {
   "cell_type": "code",
   "execution_count": 44,
   "id": "92ffb68b",
   "metadata": {},
   "outputs": [],
   "source": [
    "bert_model = \"yiyanghkust/finbert-pretrain\"\n",
    "\n",
    "# Tokenizer\n",
    "tokenizer = BertTokenizer.from_pretrained(bert_model)"
   ]
  },
  {
   "cell_type": "code",
   "execution_count": 45,
   "id": "2f0408dd",
   "metadata": {},
   "outputs": [],
   "source": [
    "class TransactionDataset(Dataset):\n",
    "    def __init__(self, texts, labels, tokenizer, max_length=128):\n",
    "        self.texts = texts\n",
    "        self.labels = labels\n",
    "        self.tokenizer = tokenizer\n",
    "        self.max_length = max_length\n",
    "\n",
    "    def __len__(self):\n",
    "        return len(self.texts)\n",
    "\n",
    "    def __getitem__(self, idx):\n",
    "        text = str(self.texts[idx])\n",
    "        label = self.labels[idx]\n",
    "\n",
    "        encoding = self.tokenizer.encode_plus(\n",
    "            text,\n",
    "            add_special_tokens=True,\n",
    "            max_length=self.max_length,\n",
    "            padding='max_length',\n",
    "            truncation=True,\n",
    "            return_attention_mask=True,\n",
    "            return_tensors='pt'\n",
    "        )\n",
    "\n",
    "        return {\n",
    "            'input_ids': encoding['input_ids'].squeeze(0),\n",
    "            'attention_mask': encoding['attention_mask'].squeeze(0),\n",
    "            'labels': torch.tensor(label, dtype=torch.long)\n",
    "        }\n",
    "\n",
    "train_dataset = TransactionDataset(train_texts, train_labels, tokenizer)\n",
    "val_dataset = TransactionDataset(val_texts, val_labels, tokenizer)\n",
    "\n",
    "train_loader = DataLoader(train_dataset, batch_size=16, shuffle=True)\n",
    "val_loader = DataLoader(val_dataset, batch_size=16)\n"
   ]
  },
  {
   "cell_type": "code",
   "execution_count": 46,
   "id": "8dc66817",
   "metadata": {},
   "outputs": [
    {
     "name": "stderr",
     "output_type": "stream",
     "text": [
      "Some weights of BertForSequenceClassification were not initialized from the model checkpoint at yiyanghkust/finbert-pretrain and are newly initialized: ['classifier.bias', 'classifier.weight']\n",
      "You should probably TRAIN this model on a down-stream task to be able to use it for predictions and inference.\n"
     ]
    }
   ],
   "source": [
    "# Model\n",
    "model = BertForSequenceClassification.from_pretrained(bert_model, num_labels=num_labels)"
   ]
  },
  {
   "cell_type": "code",
   "execution_count": 47,
   "id": "8114ddd5",
   "metadata": {},
   "outputs": [],
   "source": [
    "class BERTClassifier(nn.Module):\n",
    "    def __init__(self, pretrained_model=bert_model, n_classes=num_labels):\n",
    "        super().__init__()\n",
    "        self.bert = BertModel.from_pretrained(pretrained_model)\n",
    "        self.dropout = nn.Dropout(p=0.4)\n",
    "        self.classifier = nn.Linear(self.bert.config.hidden_size, n_classes)\n",
    "\n",
    "    def forward(self, input_ids, attention_mask):\n",
    "        outputs = self.bert(input_ids=input_ids, attention_mask=attention_mask)\n",
    "        pooled_output = outputs.pooler_output\n",
    "        dropped = self.dropout(pooled_output)\n",
    "        return self.classifier(dropped)"
   ]
  },
  {
   "cell_type": "code",
   "execution_count": 48,
   "id": "adbda15a",
   "metadata": {},
   "outputs": [],
   "source": [
    "# Training setup\n",
    "model.to(device)\n",
    "optimizer = AdamW(model.parameters(), lr=2e-5)\n",
    "loss_fn = nn.CrossEntropyLoss()\n",
    "epoch_no = 10\n",
    "num_training_steps = len(train_loader) * epoch_no  \n",
    "# lr_scheduler = get_scheduler(\"linear\", optimizer=optimizer, num_warmup_steps=0, num_training_steps=num_training_steps)\n",
    "best_loss = float('inf')\n",
    "patience = 2\n",
    "\n",
    "model_path = \"./\""
   ]
  },
  {
   "cell_type": "code",
   "execution_count": null,
   "id": "a2c29057",
   "metadata": {},
   "outputs": [],
   "source": [
    "def train_epoch(model, loader, optimizer, device):\n",
    "    model.train()\n",
    "    total_loss = 0\n",
    "    for batch in tqdm(loader, desc=\"Training\"):\n",
    "        input_ids = batch['input_ids'].to(device)\n",
    "        attention_mask = batch['attention_mask'].to(device)\n",
    "        labels = batch['labels'].to(device)\n",
    "\n",
    "        outputs = model(input_ids, attention_mask)\n",
    "        logits = outputs.logits \n",
    "        loss = loss_fn(logits, labels)\n",
    "\n",
    "        optimizer.zero_grad()\n",
    "        loss.backward()\n",
    "        optimizer.step()\n",
    "        total_loss += loss.item()\n",
    "    return total_loss / len(loader)\n",
    "\n",
    "def evaluate(model, loader, device):\n",
    "    model.eval()\n",
    "    true_labels, predictions = [], []\n",
    "    eval_loss = 0 \n",
    "\n",
    "    with torch.no_grad():\n",
    "        for batch in tqdm(loader, desc=\"Evaluatin g\"):\n",
    "            input_ids = batch['input_ids'].to(device)\n",
    "            attention_mask = batch['attention_mask'].to(device)\n",
    "            labels = batch['labels'].to(device)\n",
    "\n",
    "            outputs = model(input_ids, attention_mask)\n",
    "            logits = outputs.logits \n",
    "            loss = loss_fn(logits, labels)\n",
    "\n",
    "            eval_loss += loss.item()\n",
    "\n",
    "            preds = torch.argmax(outputs.logits, dim=1)\n",
    "            predictions.extend(preds.cpu().numpy())\n",
    "            true_labels.extend(labels.cpu().numpy())\n",
    "\n",
    "    return {\n",
    "        \"eval_loss\": eval_loss / len(loader),\n",
    "        \"accuracy\": accuracy_score(true_labels, predictions),\n",
    "        \"precision\": precision_score(true_labels, predictions, average='weighted'),\n",
    "        \"recall\": recall_score(true_labels, predictions, average='weighted'),\n",
    "        \"f1\": f1_score(true_labels, predictions, average='weighted')    \n",
    "    }\n"
   ]
  },
  {
   "cell_type": "code",
   "execution_count": 50,
   "id": "effc372f",
   "metadata": {},
   "outputs": [
    {
     "name": "stdout",
     "output_type": "stream",
     "text": [
      "\n",
      "Epoch 1\n"
     ]
    },
    {
     "name": "stderr",
     "output_type": "stream",
     "text": [
      "Training: 100%|██████████| 200/200 [13:22<00:00,  4.01s/it]\n"
     ]
    },
    {
     "name": "stdout",
     "output_type": "stream",
     "text": [
      "Train Loss: 0.9990\n"
     ]
    },
    {
     "name": "stderr",
     "output_type": "stream",
     "text": [
      "Evaluating: 100%|██████████| 50/50 [00:48<00:00,  1.02it/s]\n"
     ]
    },
    {
     "name": "stdout",
     "output_type": "stream",
     "text": [
      "Validation Loss: 0.3684\n",
      "Validation Accuracy: 0.8999, F1 Score: 0.8998\n",
      "Precision: 0.9110, Recall: 0.8999\n",
      "New best model saved to ./\n",
      "\n",
      "Epoch 2\n"
     ]
    },
    {
     "name": "stderr",
     "output_type": "stream",
     "text": [
      "Training: 100%|██████████| 200/200 [12:45<00:00,  3.83s/it]\n"
     ]
    },
    {
     "name": "stdout",
     "output_type": "stream",
     "text": [
      "Train Loss: 0.2394\n"
     ]
    },
    {
     "name": "stderr",
     "output_type": "stream",
     "text": [
      "Evaluating: 100%|██████████| 50/50 [00:47<00:00,  1.06it/s]\n"
     ]
    },
    {
     "name": "stdout",
     "output_type": "stream",
     "text": [
      "Validation Loss: 0.1859\n",
      "Validation Accuracy: 0.9499, F1 Score: 0.9493\n",
      "Precision: 0.9512, Recall: 0.9499\n",
      "New best model saved to ./\n",
      "\n",
      "Epoch 3\n"
     ]
    },
    {
     "name": "stderr",
     "output_type": "stream",
     "text": [
      "Training: 100%|██████████| 200/200 [12:31<00:00,  3.76s/it]\n"
     ]
    },
    {
     "name": "stdout",
     "output_type": "stream",
     "text": [
      "Train Loss: 0.1071\n"
     ]
    },
    {
     "name": "stderr",
     "output_type": "stream",
     "text": [
      "Evaluating: 100%|██████████| 50/50 [00:48<00:00,  1.02it/s]\n"
     ]
    },
    {
     "name": "stdout",
     "output_type": "stream",
     "text": [
      "Validation Loss: 0.1553\n",
      "Validation Accuracy: 0.9599, F1 Score: 0.9592\n",
      "Precision: 0.9616, Recall: 0.9599\n",
      "New best model saved to ./\n",
      "\n",
      "Epoch 4\n"
     ]
    },
    {
     "name": "stderr",
     "output_type": "stream",
     "text": [
      "Training: 100%|██████████| 200/200 [12:46<00:00,  3.83s/it]\n"
     ]
    },
    {
     "name": "stdout",
     "output_type": "stream",
     "text": [
      "Train Loss: 0.0734\n"
     ]
    },
    {
     "name": "stderr",
     "output_type": "stream",
     "text": [
      "Evaluating: 100%|██████████| 50/50 [00:46<00:00,  1.08it/s]\n"
     ]
    },
    {
     "name": "stdout",
     "output_type": "stream",
     "text": [
      "Validation Loss: 0.1551\n",
      "Validation Accuracy: 0.9599, F1 Score: 0.9598\n",
      "Precision: 0.9613, Recall: 0.9599\n",
      "New best model saved to ./\n",
      "\n",
      "Epoch 5\n"
     ]
    },
    {
     "name": "stderr",
     "output_type": "stream",
     "text": [
      "Training: 100%|██████████| 200/200 [12:32<00:00,  3.76s/it]\n"
     ]
    },
    {
     "name": "stdout",
     "output_type": "stream",
     "text": [
      "Train Loss: 0.0512\n"
     ]
    },
    {
     "name": "stderr",
     "output_type": "stream",
     "text": [
      "Evaluating: 100%|██████████| 50/50 [00:46<00:00,  1.08it/s]\n"
     ]
    },
    {
     "name": "stdout",
     "output_type": "stream",
     "text": [
      "Validation Loss: 0.1547\n",
      "Validation Accuracy: 0.9662, F1 Score: 0.9658\n",
      "Precision: 0.9671, Recall: 0.9662\n",
      "New best model saved to ./\n",
      "\n",
      "Epoch 6\n"
     ]
    },
    {
     "name": "stderr",
     "output_type": "stream",
     "text": [
      "Training: 100%|██████████| 200/200 [12:16<00:00,  3.68s/it]\n"
     ]
    },
    {
     "name": "stdout",
     "output_type": "stream",
     "text": [
      "Train Loss: 0.0437\n"
     ]
    },
    {
     "name": "stderr",
     "output_type": "stream",
     "text": [
      "Evaluating: 100%|██████████| 50/50 [00:46<00:00,  1.08it/s]\n"
     ]
    },
    {
     "name": "stdout",
     "output_type": "stream",
     "text": [
      "Validation Loss: 0.1746\n",
      "Validation Accuracy: 0.9625, F1 Score: 0.9627\n",
      "Precision: 0.9647, Recall: 0.9625\n",
      " No improvement. Early stopping counter: 1/2\n",
      "\n",
      "Epoch 7\n"
     ]
    },
    {
     "name": "stderr",
     "output_type": "stream",
     "text": [
      "Training: 100%|██████████| 200/200 [13:59<00:00,  4.20s/it]\n"
     ]
    },
    {
     "name": "stdout",
     "output_type": "stream",
     "text": [
      "Train Loss: 0.0449\n"
     ]
    },
    {
     "name": "stderr",
     "output_type": "stream",
     "text": [
      "Evaluating: 100%|██████████| 50/50 [00:58<00:00,  1.16s/it]\n"
     ]
    },
    {
     "name": "stdout",
     "output_type": "stream",
     "text": [
      "Validation Loss: 0.1477\n",
      "Validation Accuracy: 0.9700, F1 Score: 0.9699\n",
      "Precision: 0.9701, Recall: 0.9700\n",
      "New best model saved to ./\n",
      "\n",
      "Epoch 8\n"
     ]
    },
    {
     "name": "stderr",
     "output_type": "stream",
     "text": [
      "Training: 100%|██████████| 200/200 [14:34<00:00,  4.37s/it]\n"
     ]
    },
    {
     "name": "stdout",
     "output_type": "stream",
     "text": [
      "Train Loss: 0.0307\n"
     ]
    },
    {
     "name": "stderr",
     "output_type": "stream",
     "text": [
      "Evaluating: 100%|██████████| 50/50 [00:57<00:00,  1.16s/it]\n"
     ]
    },
    {
     "name": "stdout",
     "output_type": "stream",
     "text": [
      "Validation Loss: 0.1609\n",
      "Validation Accuracy: 0.9662, F1 Score: 0.9662\n",
      "Precision: 0.9668, Recall: 0.9662\n",
      " No improvement. Early stopping counter: 1/2\n",
      "\n",
      "Epoch 9\n"
     ]
    },
    {
     "name": "stderr",
     "output_type": "stream",
     "text": [
      "Training: 100%|██████████| 200/200 [14:40<00:00,  4.40s/it]\n"
     ]
    },
    {
     "name": "stdout",
     "output_type": "stream",
     "text": [
      "Train Loss: 0.0280\n"
     ]
    },
    {
     "name": "stderr",
     "output_type": "stream",
     "text": [
      "Evaluating: 100%|██████████| 50/50 [00:47<00:00,  1.05it/s]"
     ]
    },
    {
     "name": "stdout",
     "output_type": "stream",
     "text": [
      "Validation Loss: 0.1769\n",
      "Validation Accuracy: 0.9599, F1 Score: 0.9598\n",
      "Precision: 0.9632, Recall: 0.9599\n",
      " No improvement. Early stopping counter: 2/2\n",
      "Early stopping triggered.\n"
     ]
    },
    {
     "name": "stderr",
     "output_type": "stream",
     "text": [
      "\n"
     ]
    }
   ],
   "source": [
    "# Run training\n",
    "for epoch in range(epoch_no):\n",
    "    print(f\"\\nEpoch {epoch+1}\")\n",
    "    loss = train_epoch(model, train_loader, optimizer, device)\n",
    "    print(f\"Train Loss: {loss:.4f}\")\n",
    "    metrics = evaluate(model, val_loader, device)\n",
    "    val_loss = metrics['eval_loss']\n",
    "    print(f\"Validation Loss: {metrics['eval_loss']:.4f}\")\n",
    "    print(f\"Validation Accuracy: {metrics['accuracy']:.4f}, F1 Score: {metrics['f1']:.4f}\")\n",
    "    print(f\"Precision: {metrics['precision']:.4f}, Recall: {metrics['recall']:.4f}\")\n",
    "\n",
    "    # Check if this is the best model so far\n",
    "    if val_loss < best_loss:\n",
    "        best_loss = val_loss\n",
    "        early_stopping_counter = 0\n",
    "        torch.save(model.state_dict(), \"best_bert_model.pt\")\n",
    "        print(f\"New best model saved to {model_path}\")\n",
    "    else:\n",
    "        early_stopping_counter += 1\n",
    "        print(f\" No improvement. Early stopping counter: {early_stopping_counter}/{patience}\")\n",
    "\n",
    "    # Early stopping trigger\n",
    "    if early_stopping_counter >= patience:\n",
    "        print(\"Early stopping triggered.\")\n",
    "        break"
   ]
  },
  {
   "cell_type": "code",
   "execution_count": 55,
   "id": "c9e6e2c6",
   "metadata": {},
   "outputs": [
    {
     "name": "stdout",
     "output_type": "stream",
     "text": [
      "Predicted class: Transport\n",
      "Class confidence scores: [7.1496703e-04 2.9567006e-04 2.5141818e-04 1.4428825e-04 2.3037042e-04\n",
      " 4.9963698e-04 2.8153448e-04 3.0300600e-04 4.2175353e-04 1.4690736e-04\n",
      " 9.9671054e-01]\n"
     ]
    }
   ],
   "source": [
    "# Step 2: Load Model Weights\n",
    "device = torch.device(\"cuda\" if torch.cuda.is_available() else \"cpu\")\n",
    "model = BERTClassifier()\n",
    "model.load_state_dict(torch.load(\"best_bert_model.pt\", weights_only=True, map_location=device))\n",
    "model.to(device)\n",
    "model.eval()\n",
    "\n",
    "# Step 3: Load Tokenizer\n",
    "tokenizer = BertTokenizer.from_pretrained(bert_model)\n",
    "\n",
    "# Step 4: Prediction Function\n",
    "def predict_transaction(text, model, tokenizer, max_length=128):\n",
    "    inputs = tokenizer.encode_plus(\n",
    "        text,\n",
    "        add_special_tokens=True,\n",
    "        max_length=max_length,\n",
    "        truncation=True,\n",
    "        padding=\"max_length\",\n",
    "        return_tensors=\"pt\"\n",
    "    )\n",
    "    input_ids = inputs[\"input_ids\"].to(device)\n",
    "    attention_mask = inputs[\"attention_mask\"].to(device)\n",
    "\n",
    "    with torch.no_grad():\n",
    "        logits = model(input_ids=input_ids, attention_mask=attention_mask)\n",
    "        probs = softmax(logits, dim=1)\n",
    "        pred_class = torch.argmax(probs, dim=1).item()\n",
    "\n",
    "    return pred_class, probs.cpu().numpy()[0]\n",
    "\n",
    "# Step 5: Test\n",
    "text = \"DEBIT PURCHASE 12/03/24 Grab\"\n",
    "pred, probs = predict_transaction(text, model, tokenizer)\n",
    "label = label_encoder.inverse_transform([pred])[0]\n",
    "\n",
    "print(\"Predicted class:\", label)\n",
    "print(\"Class confidence scores:\", probs)\n"
   ]
  },
  {
   "cell_type": "markdown",
   "id": "2cd39f99",
   "metadata": {},
   "source": [
    "Best BERT model is stored on GDrive for easier access, due to large file size. "
   ]
  }
 ],
 "metadata": {
  "kernelspec": {
   "display_name": ".venv",
   "language": "python",
   "name": "python3"
  },
  "language_info": {
   "codemirror_mode": {
    "name": "ipython",
    "version": 3
   },
   "file_extension": ".py",
   "mimetype": "text/x-python",
   "name": "python",
   "nbconvert_exporter": "python",
   "pygments_lexer": "ipython3",
   "version": "3.11.8"
  }
 },
 "nbformat": 4,
 "nbformat_minor": 5
}
